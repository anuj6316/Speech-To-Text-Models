{
 "cells": [
  {
   "cell_type": "code",
   "execution_count": 7,
   "id": "8d8cc014",
   "metadata": {},
   "outputs": [],
   "source": [
    "!python3 -m pip install --upgrade tamilinayavaani>=0.13\n",
    "\n"
   ]
  },
  {
   "cell_type": "code",
   "execution_count": 8,
   "id": "0eb05848",
   "metadata": {},
   "outputs": [
    {
     "ename": "ModuleNotFoundError",
     "evalue": "No module named 'tamilinaiyavaani'",
     "output_type": "error",
     "traceback": [
      "\u001b[31m---------------------------------------------------------------------------\u001b[39m",
      "\u001b[31mModuleNotFoundError\u001b[39m                       Traceback (most recent call last)",
      "\u001b[36mCell\u001b[39m\u001b[36m \u001b[39m\u001b[32mIn[8]\u001b[39m\u001b[32m, line 1\u001b[39m\n\u001b[32m----> \u001b[39m\u001b[32m1\u001b[39m \u001b[38;5;28;01mfrom\u001b[39;00m\u001b[38;5;250m \u001b[39m\u001b[34;01mtamilinaiyavaani\u001b[39;00m\u001b[38;5;250m \u001b[39m\u001b[38;5;28;01mimport\u001b[39;00m SpellChecker\n\u001b[32m      3\u001b[39m \u001b[38;5;66;03m# Check a Tamil word and get suggestions if misspelled\u001b[39;00m\n\u001b[32m      4\u001b[39m flag, suggestions = SpellChecker.REST_interface(\u001b[33m'\u001b[39m\u001b[33mவாழை\u001b[39m\u001b[33m'\u001b[39m, \u001b[33m'\u001b[39m\u001b[33mபழம்\u001b[39m\u001b[33m'\u001b[39m)\n",
      "\u001b[31mModuleNotFoundError\u001b[39m: No module named 'tamilinaiyavaani'"
     ]
    }
   ],
   "source": [
    "from tamilinaiyavaani import SpellChecker\n",
    "\n",
    "# Check a Tamil word and get suggestions if misspelled\n",
    "flag, suggestions = SpellChecker.REST_interface('வாழை', 'பழம்')\n",
    "\n",
    "if flag:\n",
    "    print(\"Correct word\")\n",
    "else:\n",
    "    print(\"Incorrect, suggestions:\", suggestions)\n"
   ]
  },
  {
   "cell_type": "code",
   "execution_count": null,
   "id": "f9074452",
   "metadata": {},
   "outputs": [],
   "source": []
  }
 ],
 "metadata": {
  "kernelspec": {
   "display_name": "venv",
   "language": "python",
   "name": "python3"
  },
  "language_info": {
   "codemirror_mode": {
    "name": "ipython",
    "version": 3
   },
   "file_extension": ".py",
   "mimetype": "text/x-python",
   "name": "python",
   "nbconvert_exporter": "python",
   "pygments_lexer": "ipython3",
   "version": "3.12.3"
  }
 },
 "nbformat": 4,
 "nbformat_minor": 5
}
