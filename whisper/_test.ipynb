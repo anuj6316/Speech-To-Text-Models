{
 "cells": [
  {
   "cell_type": "code",
   "execution_count": 1,
   "id": "cfd2a153",
   "metadata": {},
   "outputs": [
    {
     "name": "stdout",
     "output_type": "stream",
     "text": [
      "\n",
      "Alex: Hi Shreya Bhatt, my name is Alex. I will be your AI interviewer today.\n",
      "\n",
      "Candidate: Hi Alex, how are you doing today?\n",
      "\n",
      "Alex: I'm doing well, thank you. How about you? Can you tell me a bit about your background and what led you to pursue a role in annotation?\n",
      "\n",
      "Candidate: No Alex, I have no idea.\n",
      "\n",
      "Alex: I appreciate your honesty. Let's try to focus back on your background. Can you share any experiences you've had that you think might be relevant to this role?\n",
      "\n",
      "Candidate: Ha Alex, मारी पासे गणो बदो experience छे data annotation मा. मारी पासे 5 वर्ष नो experience छे data annotation मा जे मैं almost बद्धा type ना tool use करया छे अने मैं गणाबदा project पर काम कर्यू छे जे मा video annotation, image annotation, और document annotation पर काम कर्यू छे. Document annotation मा भी मैं गणाबदा type ना document नो annotation कर्यो छे जेम के Government IDs, insurance forms, medical prescriptions, invoices.\n",
      "\n",
      "Alex: How would you handle a situation where you are unsure about how to annotate a particular piece of data?\n",
      "\n",
      "Candidate: ज्यारे हूं unsure हऊँ छू annotation माटे, त्यारे हूं गणिबदीवार leader नी, team leader नी consult करू छू, इतो पश्ची manager जोडे advice मंगवा माटे जऊँछू. Because ये बहुत जरूरी छे के annotation start करता पहला आपड़े बद्धा doubt clear करीये कारण के annotation मा कोई problem होय तो बद्धा annotation ने review करवा पड़े छे अने फरी थी annotation करवा गणो बदो time जाए छे तो ये बहुत जरूरी छे के annotation start करता पहला बद्धा doubt clear करीये.\n",
      "\n",
      "Alex: What is annotation?\n",
      "\n",
      "Candidate: Annotation एक process छे, annotation मा जे field नी के जे value नी जरुर होय छे अने label करवानु होय छे अने mark करवानु होय छे जे ने पछी model training माटे आपवानु होय छे जेना थी एवा बीजा type ना file अगर upload करे तो accurate result आवे.\n",
      "\n",
      "Alex: Have you used any data annotation tools? If not, are you familiar with any?\n",
      "\n",
      "Candidate: Ha, जेम के मैम पहला पन केदू के annotation माटे मैं गणाबदा tools use करया छे जेम के label me, label image, label box अने गणावदा बीजा customized tool जोडे भी familiar छू. तो हां use करया छे annotation tool.\n",
      "\n",
      "Alex: What types of data can be annotated?\n",
      "\n",
      "Candidate: Annotation मा माटे तो गणाबदा data use थई सके छे पर मुझे जो data perform करयो छे mostly छे image, video अने documents.\n",
      "\n",
      "Alex: What is an annotator agreement?\n",
      "\n",
      "Candidate: मने नथी खबर Alex. मने idea नथी.\n",
      "\n",
      "Alex: Can you explain a common challenge you've faced while working with data annotations?\n",
      "\n",
      "Candidate: ज्यारे मारी पासे multiple annotation होय छे complete करवा माटे, त्यारे हूं priority इनी deadline ना हिसाब ती set करू, जो जेनी priority high होय छे, जेने deadline नजीक होय छे, ये annotation पहला खतम करवानो try करू छू. अने जो बद्धा annotation नी due date same सरकी होय तो मैं as a team annotation divide करी लिए छे अने deadline सब्भी पताओनु try करी लिए छे.\n",
      "\n",
      "Alex: This is great. Thank you for taking time to interview me.\n",
      "\n",
      "Candidate: Thank you.\"\n",
      "\n"
     ]
    }
   ],
   "source": [
    "print(\"\"\"\n",
    "Alex: Hi Shreya Bhatt, my name is Alex. I will be your AI interviewer today.\\n\\nCandidate: Hi Alex, how are you doing today?\\n\\nAlex: I'm doing well, thank you. How about you? Can you tell me a bit about your background and what led you to pursue a role in annotation?\\n\\nCandidate: No Alex, I have no idea.\\n\\nAlex: I appreciate your honesty. Let's try to focus back on your background. Can you share any experiences you've had that you think might be relevant to this role?\\n\\nCandidate: Ha Alex, मारी पासे गणो बदो experience छे data annotation मा. मारी पासे 5 वर्ष नो experience छे data annotation मा जे मैं almost बद्धा type ना tool use करया छे अने मैं गणाबदा project पर काम कर्यू छे जे मा video annotation, image annotation, और document annotation पर काम कर्यू छे. Document annotation मा भी मैं गणाबदा type ना document नो annotation कर्यो छे जेम के Government IDs, insurance forms, medical prescriptions, invoices.\\n\\nAlex: How would you handle a situation where you are unsure about how to annotate a particular piece of data?\\n\\nCandidate: ज्यारे हूं unsure हऊँ छू annotation माटे, त्यारे हूं गणिबदीवार leader नी, team leader नी consult करू छू, इतो पश्ची manager जोडे advice मंगवा माटे जऊँछू. Because ये बहुत जरूरी छे के annotation start करता पहला आपड़े बद्धा doubt clear करीये कारण के annotation मा कोई problem होय तो बद्धा annotation ने review करवा पड़े छे अने फरी थी annotation करवा गणो बदो time जाए छे तो ये बहुत जरूरी छे के annotation start करता पहला बद्धा doubt clear करीये.\\n\\nAlex: What is annotation?\\n\\nCandidate: Annotation एक process छे, annotation मा जे field नी के जे value नी जरुर होय छे अने label करवानु होय छे अने mark करवानु होय छे जे ने पछी model training माटे आपवानु होय छे जेना थी एवा बीजा type ना file अगर upload करे तो accurate result आवे.\\n\\nAlex: Have you used any data annotation tools? If not, are you familiar with any?\\n\\nCandidate: Ha, जेम के मैम पहला पन केदू के annotation माटे मैं गणाबदा tools use करया छे जेम के label me, label image, label box अने गणावदा बीजा customized tool जोडे भी familiar छू. तो हां use करया छे annotation tool.\\n\\nAlex: What types of data can be annotated?\\n\\nCandidate: Annotation मा माटे तो गणाबदा data use थई सके छे पर मुझे जो data perform करयो छे mostly छे image, video अने documents.\\n\\nAlex: What is an annotator agreement?\\n\\nCandidate: मने नथी खबर Alex. मने idea नथी.\\n\\nAlex: Can you explain a common challenge you've faced while working with data annotations?\\n\\nCandidate: ज्यारे मारी पासे multiple annotation होय छे complete करवा माटे, त्यारे हूं priority इनी deadline ना हिसाब ती set करू, जो जेनी priority high होय छे, जेने deadline नजीक होय छे, ये annotation पहला खतम करवानो try करू छू. अने जो बद्धा annotation नी due date same सरकी होय तो मैं as a team annotation divide करी लिए छे अने deadline सब्भी पताओनु try करी लिए छे.\\n\\nAlex: This is great. Thank you for taking time to interview me.\\n\\nCandidate: Thank you.\"\n",
    "\"\"\")"
   ]
  },
  {
   "cell_type": "code",
   "execution_count": null,
   "id": "297f3a8e",
   "metadata": {},
   "outputs": [],
   "source": []
  }
 ],
 "metadata": {
  "kernelspec": {
   "display_name": "venv (3.12.3)",
   "language": "python",
   "name": "python3"
  },
  "language_info": {
   "codemirror_mode": {
    "name": "ipython",
    "version": 3
   },
   "file_extension": ".py",
   "mimetype": "text/x-python",
   "name": "python",
   "nbconvert_exporter": "python",
   "pygments_lexer": "ipython3",
   "version": "3.12.3"
  }
 },
 "nbformat": 4,
 "nbformat_minor": 5
}
